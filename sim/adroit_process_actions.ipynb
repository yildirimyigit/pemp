{
 "cells": [
  {
   "cell_type": "code",
   "execution_count": 100,
   "metadata": {},
   "outputs": [],
   "source": [
    "import gymnasium as gym\n",
    "import gymnasium_robotics\n",
    "import numpy as np\n",
    "\n",
    "\n",
    "gym.register_envs(gymnasium_robotics)\n",
    "\n",
    "env = gym.make('AdroitHandHammer-v1', render_mode='human')\n",
    "\n",
    "actions = np.array(np.load(\"adroit_actions.npy\", allow_pickle=True))[:, :24]\n",
    "num_trajectories, period, dy = actions.shape\n",
    "max_freq = 4\n",
    "freqs = np.random.randint(3, max_freq+1, num_trajectories)\n",
    "# freqs = np.zeros(num_trajectories)+max_freq\n",
    "max_freq = np.max(freqs)\n",
    "\n",
    "repeated_actions = []\n",
    "t_steps = 100"
   ]
  },
  {
   "cell_type": "code",
   "execution_count": 101,
   "metadata": {},
   "outputs": [],
   "source": [
    "# interpolated_trajectories = np.zeros((num_trajectories, t_steps, dy))\n",
    "# for i in range(num_trajectories):\n",
    "#     interpolated_trajectories[i] = np.tile(actions[i], max_freq)"
   ]
  },
  {
   "cell_type": "code",
   "execution_count": 102,
   "metadata": {},
   "outputs": [
    {
     "name": "stdout",
     "output_type": "stream",
     "text": [
      "(72, 26)\n",
      "(72, 26)\n",
      "(72, 26)\n",
      "(72, 26)\n",
      "(96, 26)\n",
      "(72, 26)\n",
      "(72, 26)\n",
      "(72, 26)\n",
      "(72, 26)\n",
      "(72, 26)\n"
     ]
    }
   ],
   "source": [
    "for i in range(num_trajectories):\n",
    "    repeated_actions.append(np.tile(actions[i], (int(freqs[i]), 1)))\n",
    "    print(repeated_actions[i].shape)"
   ]
  },
  {
   "cell_type": "code",
   "execution_count": 103,
   "metadata": {},
   "outputs": [],
   "source": [
    "# repeated_actions is a num_trajectories x ? x dy array\n",
    "# interpolate each trajectory to t_steps so we have a (num_trajectories x t_steps x dy) array\n",
    "interpolated_trajectories = np.zeros((num_trajectories, t_steps, dy))\n",
    "for i in range(num_trajectories):\n",
    "    cur_actions = np.array(repeated_actions[i], dtype=np.float64)\n",
    "    for j in range(dy):\n",
    "        interpolated_trajectories[i, :, j] = np.interp(np.linspace(0, 1, t_steps), np.linspace(0, 1, cur_actions.shape[0]), cur_actions[:, j])\n"
   ]
  },
  {
   "cell_type": "code",
   "execution_count": 105,
   "metadata": {},
   "outputs": [],
   "source": [
    "# print(interpolated_trajectories)\n",
    "np.save(\"adroit_actions_10.npy\", interpolated_trajectories)\n",
    "np.save(\"adroit_freqs_10.npy\", freqs)"
   ]
  },
  {
   "cell_type": "code",
   "execution_count": 87,
   "metadata": {},
   "outputs": [
    {
     "name": "stdout",
     "output_type": "stream",
     "text": [
      "[ 0.48420829  0.42240281  0.38652287  0.36984276  0.36181686  0.64571245\n",
      "  0.76329958  0.55883573  0.17011353  0.14137257  0.23336626  0.04819857\n",
      "  0.0932765   0.04051838 -0.14981671  0.21437737  0.32873185  0.29069023\n",
      "  0.18472444  0.28121181  0.27610399  0.14747395  0.22488006  0.37860394\n",
      "  0.46084926  0.29132393  0.35550974  0.24215523 -0.00966238  0.20312632\n",
      "  0.27856849  0.28041246  0.24106653  0.40223742  0.4511293   0.39535302\n",
      "  0.37635482  0.36554721  0.48334954  0.83267581  0.65672669  0.35078723\n",
      "  0.05806003  0.23730822  0.13426243  0.05270527  0.13999489 -0.07906992\n",
      "  0.04510407  0.33487784  0.32165466  0.23397614  0.22270619  0.34472947\n",
      "  0.19708071  0.18890257  0.29122877  0.47921777  0.37011739  0.31379589\n",
      "  0.38661865  0.07580342  0.10422453  0.26853798  0.29011877  0.25935407\n",
      "  0.32026655  0.47985579  0.41805031  0.38518497  0.36927755  0.36125166\n",
      "  0.67031289  0.74927683  0.53146093  0.14273873  0.15399568  0.22032628\n",
      "  0.0351586   0.09942366  0.02478308 -0.12416924  0.24002484  0.32780064\n",
      "  0.28322785  0.17726206  0.2900763   0.26570619  0.15292509  0.2303312\n",
      "  0.3918426   0.44891086  0.27938552  0.36183002  0.22026684  0.00532274\n",
      "  0.21811144  0.28008827  0.27764162  0.23829569]\n"
     ]
    }
   ],
   "source": [
    "print(interpolated_trajectories[0,:,0])\n",
    "# print(interpolated_trajectories[0][28])"
   ]
  },
  {
   "cell_type": "code",
   "execution_count": null,
   "metadata": {},
   "outputs": [],
   "source": []
  }
 ],
 "metadata": {
  "kernelspec": {
   "display_name": "usr",
   "language": "python",
   "name": "python3"
  },
  "language_info": {
   "codemirror_mode": {
    "name": "ipython",
    "version": 3
   },
   "file_extension": ".py",
   "mimetype": "text/x-python",
   "name": "python",
   "nbconvert_exporter": "python",
   "pygments_lexer": "ipython3",
   "version": "3.8.10"
  }
 },
 "nbformat": 4,
 "nbformat_minor": 2
}
