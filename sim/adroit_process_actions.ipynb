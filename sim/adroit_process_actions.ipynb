{
 "cells": [
  {
   "cell_type": "code",
   "execution_count": null,
   "metadata": {},
   "outputs": [],
   "source": [
    "import gymnasium as gym\n",
    "import gymnasium_robotics\n",
    "import numpy as np\n",
    "\n",
    "\n",
    "gym.register_envs(gymnasium_robotics)\n",
    "\n",
    "env = gym.make('AdroitHandHammer-v1', render_mode='human')\n",
    "\n",
    "actions = np.array(np.load(\"adroit_actions.npy\", allow_pickle=True))[:, 1:24]\n",
    "num_trajectories, period, dy = actions.shape\n",
    "max_freq = 6\n",
    "freqs = np.random.randint(1, max_freq, num_trajectories)\n",
    "max_freq = np.max(freqs)\n",
    "\n",
    "repeated_actions = []"
   ]
  },
  {
   "cell_type": "code",
   "execution_count": null,
   "metadata": {},
   "outputs": [],
   "source": [
    "for i in range(num_trajectories):\n",
    "    repeated_actions.append(np.repeat(actions[i], freqs[i], axis=1))"
   ]
  },
  {
   "cell_type": "code",
   "execution_count": null,
   "metadata": {},
   "outputs": [],
   "source": [
    "t_steps = 200\n",
    "\n",
    "# repeated_actions is a num_trajectories x ? x dy array\n",
    "# interpolate each trajectory to t_steps so we have a (num_trajectories x t_steps x dy) array\n",
    "interpolated_trajectories = np.zeros((num_trajectories, t_steps, dy))\n",
    "for i in range(num_trajectories):\n",
    "    for j in range(dy):\n",
    "        cur_actions = np.array(repeated_actions[i])\n",
    "        interpolated_trajectories[i, :, j] = np.interp(np.linspace(0, 1, t_steps), np.linspace(0, 1, repeated_actions[i].shape[1]), cur_actions[:, j])\n"
   ]
  },
  {
   "cell_type": "code",
   "execution_count": null,
   "metadata": {},
   "outputs": [],
   "source": [
    "print(interpolated_trajectories)\n",
    "np.save(\"adroit_actions_10.npy\", interpolated_trajectories)\n",
    "np.save(\"adroit_freqs_10.npy\", freqs/max_freq)"
   ]
  }
 ],
 "metadata": {
  "kernelspec": {
   "display_name": "usr",
   "language": "python",
   "name": "python3"
  },
  "language_info": {
   "name": "python",
   "version": "3.8.10"
  }
 },
 "nbformat": 4,
 "nbformat_minor": 2
}
