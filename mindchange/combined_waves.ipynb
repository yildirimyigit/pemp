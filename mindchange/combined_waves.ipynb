{
 "cells": [
  {
   "cell_type": "code",
   "execution_count": 1,
   "metadata": {},
   "outputs": [],
   "source": [
    "import sys\n",
    "\n",
    "folder_path = '../data/'\n",
    "if folder_path not in sys.path:\n",
    "    sys.path.append(folder_path)\n",
    "\n",
    "import torch\n",
    "import numpy as np\n",
    "import matplotlib.pyplot as plt\n",
    "\n",
    "from data_generators import *\n"
   ]
  },
  {
   "cell_type": "code",
   "execution_count": 2,
   "metadata": {},
   "outputs": [
    {
     "ename": "TypeError",
     "evalue": "generate_combined_cyclic_trajectories_with_random_freqs() got an unexpected keyword argument 'freqs'",
     "output_type": "error",
     "traceback": [
      "\u001b[0;31m---------------------------------------------------------------------------\u001b[0m",
      "\u001b[0;31mTypeError\u001b[0m                                 Traceback (most recent call last)",
      "Cell \u001b[0;32mIn[2], line 5\u001b[0m\n\u001b[1;32m      2\u001b[0m num_points_per_cycle \u001b[38;5;241m=\u001b[39m \u001b[38;5;241m100\u001b[39m\n\u001b[1;32m      4\u001b[0m \u001b[38;5;66;03m# Generate combined cyclic trajectory\u001b[39;00m\n\u001b[0;32m----> 5\u001b[0m trajectories, phases, freqs \u001b[38;5;241m=\u001b[39m \u001b[43mgenerate_combined_cyclic_trajectories_with_random_freqs\u001b[49m\u001b[43m(\u001b[49m\u001b[43mnum_cycles\u001b[49m\u001b[43m,\u001b[49m\u001b[43m \u001b[49m\u001b[43mnum_points_per_cycle\u001b[49m\u001b[43m,\u001b[49m\u001b[43m \u001b[49m\u001b[43mfreqs\u001b[49m\u001b[38;5;241;43m=\u001b[39;49m\u001b[38;5;28;43;01mTrue\u001b[39;49;00m\u001b[43m)\u001b[49m\n\u001b[1;32m      7\u001b[0m \u001b[38;5;66;03m# Plot the trajectories and phases side by side\u001b[39;00m\n\u001b[1;32m      8\u001b[0m plt\u001b[38;5;241m.\u001b[39mfigure(figsize\u001b[38;5;241m=\u001b[39m(\u001b[38;5;241m12\u001b[39m, \u001b[38;5;241m4\u001b[39m))\n",
      "\u001b[0;31mTypeError\u001b[0m: generate_combined_cyclic_trajectories_with_random_freqs() got an unexpected keyword argument 'freqs'"
     ]
    }
   ],
   "source": [
    "num_cycles = 3\n",
    "num_points_per_cycle = 100\n",
    "\n",
    "# Generate combined cyclic trajectory\n",
    "trajectories, phases, freqs = generate_combined_cyclic_trajectories_with_random_freqs(num_cycles, num_points_per_cycle, freq=True)\n",
    "\n",
    "# Plot the trajectories and phases side by side\n",
    "plt.figure(figsize=(12, 4))\n",
    "plt.subplot(1, 2, 1)\n",
    "for trajectory in trajectories:\n",
    "    plt.plot(trajectory.numpy())\n",
    "plt.title(\"1D Cyclic Trajectories\")\n",
    "plt.xlabel(\"Time Steps\")\n",
    "\n",
    "plt.subplot(1, 2, 2)\n",
    "for phase in phases:\n",
    "    plt.plot(phase.numpy())\n",
    "plt.title(\"Phase Values\")\n",
    "plt.xlabel(\"Time Steps\")\n",
    "plt.tight_layout()\n",
    "plt.show()\n"
   ]
  },
  {
   "cell_type": "code",
   "execution_count": 3,
   "metadata": {},
   "outputs": [],
   "source": [
    "# trajectories, phases = generate_cyclic_trajectories_with_random_cycles(num_trajs=20)\n",
    "\n",
    "# # Plot the trajectories and phases side by side\n",
    "# plt.figure(figsize=(12, 4))\n",
    "# plt.subplot(1, 2, 1)\n",
    "# for i in range(trajectories.shape[0]):\n",
    "#     plt.plot(trajectories[i].numpy())\n",
    "# plt.title(\"1D Cyclic Trajectories\")\n",
    "# plt.xlabel(\"Time Steps\")\n",
    "\n",
    "# plt.subplot(1, 2, 2)\n",
    "# for i in range(phases.shape[0]):\n",
    "#     plt.plot(phases[i].numpy())\n",
    "# plt.title(\"Phase Values\")\n",
    "# plt.xlabel(\"Time Steps\")\n",
    "# plt.tight_layout()\n",
    "# plt.show()\n"
   ]
  }
 ],
 "metadata": {
  "kernelspec": {
   "display_name": "base",
   "language": "python",
   "name": "python3"
  },
  "language_info": {
   "codemirror_mode": {
    "name": "ipython",
    "version": 3
   },
   "file_extension": ".py",
   "mimetype": "text/x-python",
   "name": "python",
   "nbconvert_exporter": "python",
   "pygments_lexer": "ipython3",
   "version": "3.10.13"
  }
 },
 "nbformat": 4,
 "nbformat_minor": 2
}
