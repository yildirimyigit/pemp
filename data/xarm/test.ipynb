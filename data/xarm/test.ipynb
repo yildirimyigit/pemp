{
 "cells": [
  {
   "cell_type": "code",
   "execution_count": 1,
   "id": "8a457f60",
   "metadata": {},
   "outputs": [
    {
     "name": "stdout",
     "output_type": "stream",
     "text": [
      "SDK_VERSION: 1.17.0\n",
      "ROBOT_IP: 192.168.1.225, VERSION: v2.4.0, PROTOCOL: V1, DETAIL: 7,7,XS1304,AC1303,v2.4.0, TYPE1300: [1, 1]\n",
      "change protocol identifier to 3\n"
     ]
    }
   ],
   "source": [
    "from xarm.wrapper import XArmAPI\n",
    "import numpy as np\n",
    "import time, csv, threading\n",
    "\n",
    "# Connect to the robot\n",
    "arm = XArmAPI('192.168.1.225', is_radian=True)\n",
    "\n",
    "arm.motion_enable(enable=True)\n",
    "arm.set_mode(0)    # Position control mode\n",
    "arm.set_state(0)\n",
    "\n",
    "CENTER = np.array([470.0, 0.0])\n",
    "R = 40.0\n",
    "Z = 310\n",
    "RPY = (180, 0, 0)\n",
    "SLOW = 50\n",
    "FAST = 75"
   ]
  },
  {
   "cell_type": "code",
   "execution_count": 2,
   "id": "90f7a7a0",
   "metadata": {},
   "outputs": [],
   "source": [
    "def move_home():\n",
    "    # Move to home position\n",
    "    arm.set_position(x=470, y=0, z=385, roll=180, pitch=0, yaw=0, speed=SLOW, is_radian=False)\n",
    "\n",
    "def move_center():\n",
    "    # Move to center position\n",
    "    arm.set_position(x=470, y=0, z=310, roll=180, pitch=0, yaw=0, speed=SLOW, is_radian=False)\n",
    "\n",
    "def wrap_up():\n",
    "    move_center()\n",
    "    move_home()\n",
    "    arm.disconnect()\n",
    "\n",
    "log_rows = []                      # [j0, j1, j2, j3, j4, j5, j6]\n",
    "stop_evt = threading.Event()\n",
    "\n",
    "def on_report(data):\n",
    "    ang = data.get('joints')\n",
    "    if ang:\n",
    "        log_rows.append(ang)\n"
   ]
  },
  {
   "cell_type": "code",
   "execution_count": 3,
   "id": "620362dd",
   "metadata": {},
   "outputs": [],
   "source": [
    "def pt(angle_deg):\n",
    "    a = np.deg2rad(angle_deg)\n",
    "    x = CENTER[0] + R*np.cos(a)\n",
    "    y = CENTER[1] + R*np.sin(a)\n",
    "    return [x, y, Z, *RPY]"
   ]
  },
  {
   "cell_type": "code",
   "execution_count": 4,
   "id": "c1c3bb04",
   "metadata": {},
   "outputs": [],
   "source": [
    "move_home()\n",
    "# move_center()"
   ]
  },
  {
   "cell_type": "code",
   "execution_count": null,
   "id": "e9b6474c",
   "metadata": {},
   "outputs": [],
   "source": [
    "N = 6\n",
    "speed, acc = FAST, 2000  # tune as needed\n",
    "\n",
    "arm.register_report_callback(on_report)\n",
    "\n",
    "arm.set_position(*pt(0), speed=FAST, wait=True, is_radian=False)\n",
    "arm.move_circle(pt(90), pt(180), percent=100*N, speed=speed, mvacc=acc, wait=True, is_radian=False)\n",
    "\n",
    "arm.release_report_callback(on_report)"
   ]
  },
  {
   "cell_type": "code",
   "execution_count": null,
   "id": "8bbd07d6",
   "metadata": {},
   "outputs": [],
   "source": [
    "with open('6_1.csv', 'w', newline='') as f:\n",
    "    w = csv.writer(f)\n",
    "    w.writerow(['j0','j1','j2','j3','j4','j5','j6'])\n",
    "    w.writerows(log_rows)"
   ]
  },
  {
   "cell_type": "code",
   "execution_count": null,
   "id": "cb0d48f8",
   "metadata": {},
   "outputs": [],
   "source": [
    "wrap_up()"
   ]
  },
  {
   "cell_type": "code",
   "execution_count": null,
   "id": "e22e99ca",
   "metadata": {},
   "outputs": [],
   "source": []
  }
 ],
 "metadata": {
  "kernelspec": {
   "display_name": "Python 3",
   "language": "python",
   "name": "python3"
  },
  "language_info": {
   "codemirror_mode": {
    "name": "ipython",
    "version": 3
   },
   "file_extension": ".py",
   "mimetype": "text/x-python",
   "name": "python",
   "nbconvert_exporter": "python",
   "pygments_lexer": "ipython3",
   "version": "3.12.3"
  }
 },
 "nbformat": 4,
 "nbformat_minor": 5
}
